{
 "cells": [
  {
   "cell_type": "code",
   "execution_count": 32,
   "metadata": {},
   "outputs": [],
   "source": [
    "import re\n",
    "import io\n",
    "text = open('/Users/paulo.barenco/Box/repos/workshop-scRNAseq/labs/r_labs/knit_rlabs.Rmd')\n",
    "text = text.readlines()\n",
    "def l(x,text,lab='SCRANPY'):\n",
    "    return([re.sub('#'+x+'_'+lab+':|\\n','',line) for line in text if re.search('#'+x+'_'+lab+':',line)])"
   ]
  },
  {
   "cell_type": "code",
   "execution_count": 1,
   "metadata": {},
   "outputs": [],
   "source": []
  },
  {
   "cell_type": "markdown",
   "metadata": {
    "variables": {
     "l('PCA',text)[0]": "To run PCA, you can use the function <code>pca()</code>.",
     "l('PCA',text,'ALL')[0]": "First text about PCA",
     "l('PCA',text,'ALL')[1]": "Second text about PCA",
     "l('PCA',text,'TITLE')[0]": "# PCA"
    }
   },
   "source": [
    "# {{l('PCA',text,'TITLE')[0]}}\n",
    "\n",
    "{{l('PCA',text,'ALL')[0]}}\n",
    "\n",
    "{{l('PCA',text,'ALL')[1]}}\n",
    "\n",
    "{{l('PCA',text)[0]}}"
   ]
  },
  {
   "cell_type": "code",
   "execution_count": 1,
   "metadata": {},
   "outputs": [],
   "source": []
  },
  {
   "cell_type": "code",
   "execution_count": 6,
   "metadata": {},
   "outputs": [
    {
     "name": "stdout",
     "output_type": "stream",
     "text": [
      "/Users/paulo.barenco/Box/repos/workshop-scRNAseq/labs/r_labs\r\n"
     ]
    }
   ],
   "source": [
    "!pwd"
   ]
  },
  {
   "cell_type": "code",
   "execution_count": 24,
   "metadata": {},
   "outputs": [],
   "source": []
  },
  {
   "cell_type": "markdown",
   "metadata": {
    "variables": {
     "[re.sub('#PCA_ALL:|\\n$','',pp) for pp in text if re.search('#PCA_ALL:',pp)][1]": "Second text about PCA"
    }
   },
   "source": [
    "{{[re.sub('#PCA_ALL:|\\n$','',pp) for pp in text if re.search('#PCA_ALL:',pp)][1]}}"
   ]
  },
  {
   "cell_type": "code",
   "execution_count": 14,
   "metadata": {},
   "outputs": [],
   "source": []
  },
  {
   "cell_type": "markdown",
   "metadata": {
    "variables": {
     "[re.sub('#PCA_SEURAT:|\\n$','',pp) for pp in text if re.search('#PCA_SEURAT:',pp)][1]": "To run PCA you can use the function <code>RunPCA()</code>."
    }
   },
   "source": []
  },
  {
   "cell_type": "code",
   "execution_count": null,
   "metadata": {},
   "outputs": [],
   "source": []
  },
  {
   "cell_type": "code",
   "execution_count": null,
   "metadata": {},
   "outputs": [],
   "source": []
  }
 ],
 "metadata": {
  "kernelspec": {
   "display_name": "Python 3",
   "language": "python",
   "name": "python3"
  },
  "language_info": {
   "codemirror_mode": {
    "name": "ipython",
    "version": 3
   },
   "file_extension": ".py",
   "mimetype": "text/x-python",
   "name": "python",
   "nbconvert_exporter": "python",
   "pygments_lexer": "ipython3",
   "version": "3.6.8"
  }
 },
 "nbformat": 4,
 "nbformat_minor": 2
}
